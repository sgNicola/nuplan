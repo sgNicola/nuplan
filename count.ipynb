{
 "cells": [
  {
   "cell_type": "code",
   "execution_count": 3,
   "metadata": {},
   "outputs": [],
   "source": [
    " xx=['stationary', 'medium_magnitude_speed', 'on_traffic_light_intersection', 'on_intersection', 'traversing_traffic_light_intersection', 'traversing_intersection', 'high_magnitude_speed', 'near_construction_zone_sign', 'near_pedestrian_on_crosswalk', 'near_high_speed_vehicle', 'near_trafficcone_on_driveable', 'near_long_vehicle', 'traversing_crosswalk', 'on_stopline_traffic_light', 'low_magnitude_speed', 'stationary_in_traffic', 'on_pickup_dropoff', 'traversing_pickup_dropoff', 'on_all_way_stop_intersection', 'near_pedestrian_on_crosswalk_with_ego', 'on_stopline_stop_sign', 'on_stopline_crosswalk', 'starting_unprotected_cross_turn', 'starting_left_turn', 'starting_right_turn', 'starting_protected_noncross_turn', 'accelerating_at_traffic_light_without_lead', 'accelerating_at_traffic_light', 'near_pedestrian_at_pickup_dropoff', 'stationary_at_traffic_light_with_lead', 'following_lane_with_slow_lead', 'near_multiple_vehicles', 'behind_long_vehicle', 'stationary_at_traffic_light_without_lead', 'following_lane_without_lead', 'near_barrier_on_driveable', 'high_lateral_acceleration', 'on_carpark']"
   ]
  },
  {
   "cell_type": "code",
   "execution_count": 16,
   "metadata": {},
   "outputs": [
    {
     "name": "stdout",
     "output_type": "stream",
     "text": [
      "9\n"
     ]
    }
   ],
   "source": [
    "print(len(xx))"
   ]
  },
  {
   "cell_type": "code",
   "execution_count": 15,
   "metadata": {},
   "outputs": [],
   "source": [
    "xx= ['near_construction_zone_sign', 'near_high_speed_vehicle', 'on_all_way_stop_intersection', 'starting_left_turn', 'starting_right_turn', 'following_lane_with_slow_lead', 'near_multiple_vehicles', 'near_barrier_on_driveable', 'high_lateral_acceleration']"
   ]
  },
  {
   "cell_type": "code",
   "execution_count": 13,
   "metadata": {},
   "outputs": [],
   "source": [
    "xx =['changing_lane_with_trail', 'changing_lane_to_right', 'changing_lane', 'accelerating_at_traffic_light_with_lead', 'starting_u_turn', 'stopping_at_traffic_light_with_lead', 'stopping_at_stop_sign_with_lead', 'high_magnitude_jerk', 'changing_lane_to_left', 'behind_pedestrian_on_pickup_dropoff', 'traversing_narrow_lane', 'crossed_by_vehicle', 'stationary_at_crosswalk', 'behind_pedestrian_on_driveable', 'near_multiple_bikes']"
   ]
  },
  {
   "cell_type": "code",
   "execution_count": null,
   "metadata": {},
   "outputs": [],
   "source": []
  }
 ],
 "metadata": {
  "kernelspec": {
   "display_name": "nuplan",
   "language": "python",
   "name": "python3"
  },
  "language_info": {
   "codemirror_mode": {
    "name": "ipython",
    "version": 3
   },
   "file_extension": ".py",
   "mimetype": "text/x-python",
   "name": "python",
   "nbconvert_exporter": "python",
   "pygments_lexer": "ipython3",
   "version": "3.9.21"
  }
 },
 "nbformat": 4,
 "nbformat_minor": 2
}
